{
 "cells": [
  {
   "cell_type": "code",
   "execution_count": 1,
   "metadata": {},
   "outputs": [],
   "source": [
    "import torch\n",
    "import numpy as np\n",
    "import matplotlib.pyplot as plt\n"
   ]
  },
  {
   "cell_type": "code",
   "execution_count": 2,
   "metadata": {},
   "outputs": [],
   "source": [
    "repo_id=\"jchun/so100_cleaning_20250524_150422\"\n"
   ]
  },
  {
   "cell_type": "code",
   "execution_count": 3,
   "metadata": {},
   "outputs": [
    {
     "name": "stderr",
     "output_type": "stream",
     "text": [
      "/home/jasonx/miniconda3/envs/matcha/lib/python3.10/site-packages/tqdm/auto.py:21: TqdmWarning: IProgress not found. Please update jupyter and ipywidgets. See https://ipywidgets.readthedocs.io/en/stable/user_install.html\n",
      "  from .autonotebook import tqdm as notebook_tqdm\n"
     ]
    },
    {
     "ename": "NameError",
     "evalue": "name 'Iterator' is not defined",
     "output_type": "error",
     "traceback": [
      "\u001b[0;31m---------------------------------------------------------------------------\u001b[0m",
      "\u001b[0;31mNameError\u001b[0m                                 Traceback (most recent call last)",
      "Cell \u001b[0;32mIn[3], line 28\u001b[0m\n\u001b[1;32m     24\u001b[0m episode_index \u001b[38;5;241m=\u001b[39m \u001b[38;5;241m0\u001b[39m  \u001b[38;5;66;03m# Or any other episode index you want to visualize\u001b[39;00m\n\u001b[1;32m     26\u001b[0m \u001b[38;5;66;03m# 3. Create an EpisodeSampler\u001b[39;00m\n\u001b[1;32m     27\u001b[0m \u001b[38;5;66;03m# This sampler ensures you only get data from the chosen episode\u001b[39;00m\n\u001b[0;32m---> 28\u001b[0m \u001b[38;5;28;01mclass\u001b[39;00m\u001b[38;5;250m \u001b[39m\u001b[38;5;21;01mEpisodeSampler\u001b[39;00m(torch\u001b[38;5;241m.\u001b[39mutils\u001b[38;5;241m.\u001b[39mdata\u001b[38;5;241m.\u001b[39mSampler):\n\u001b[1;32m     29\u001b[0m     \u001b[38;5;28;01mdef\u001b[39;00m\u001b[38;5;250m \u001b[39m\u001b[38;5;21m__init__\u001b[39m(\u001b[38;5;28mself\u001b[39m, dataset: LeRobotDataset, episode_index: \u001b[38;5;28mint\u001b[39m):\n\u001b[1;32m     30\u001b[0m         from_idx \u001b[38;5;241m=\u001b[39m dataset\u001b[38;5;241m.\u001b[39mepisode_data_index[\u001b[38;5;124m\"\u001b[39m\u001b[38;5;124mfrom\u001b[39m\u001b[38;5;124m\"\u001b[39m][episode_index]\u001b[38;5;241m.\u001b[39mitem()\n",
      "Cell \u001b[0;32mIn[3], line 34\u001b[0m, in \u001b[0;36mEpisodeSampler\u001b[0;34m()\u001b[0m\n\u001b[1;32m     31\u001b[0m     to_idx \u001b[38;5;241m=\u001b[39m dataset\u001b[38;5;241m.\u001b[39mepisode_data_index[\u001b[38;5;124m\"\u001b[39m\u001b[38;5;124mto\u001b[39m\u001b[38;5;124m\"\u001b[39m][episode_index]\u001b[38;5;241m.\u001b[39mitem()\n\u001b[1;32m     32\u001b[0m     \u001b[38;5;28mself\u001b[39m\u001b[38;5;241m.\u001b[39mframe_ids \u001b[38;5;241m=\u001b[39m \u001b[38;5;28mrange\u001b[39m(from_idx, to_idx)\n\u001b[0;32m---> 34\u001b[0m \u001b[38;5;28;01mdef\u001b[39;00m\u001b[38;5;250m \u001b[39m\u001b[38;5;21m__iter__\u001b[39m(\u001b[38;5;28mself\u001b[39m) \u001b[38;5;241m-\u001b[39m\u001b[38;5;241m>\u001b[39m \u001b[43mIterator\u001b[49m:\n\u001b[1;32m     35\u001b[0m     \u001b[38;5;28;01mreturn\u001b[39;00m \u001b[38;5;28miter\u001b[39m(\u001b[38;5;28mself\u001b[39m\u001b[38;5;241m.\u001b[39mframe_ids)\n\u001b[1;32m     37\u001b[0m \u001b[38;5;28;01mdef\u001b[39;00m\u001b[38;5;250m \u001b[39m\u001b[38;5;21m__len__\u001b[39m(\u001b[38;5;28mself\u001b[39m) \u001b[38;5;241m-\u001b[39m\u001b[38;5;241m>\u001b[39m \u001b[38;5;28mint\u001b[39m:\n",
      "\u001b[0;31mNameError\u001b[0m: name 'Iterator' is not defined"
     ]
    }
   ],
   "source": [
    "import torch\n",
    "from lerobot.common.datasets.lerobot_dataset import LeRobotDataset\n",
    "import numpy as np\n",
    "\n",
    "# Helper function (copied from visualize_dataset.py)\n",
    "def to_hwc_uint8_numpy(chw_float32_torch: torch.Tensor) -> np.ndarray:\n",
    "    assert chw_float32_torch.dtype == torch.float32\n",
    "    assert chw_float32_torch.ndim == 3\n",
    "    c, h, w = chw_float32_torch.shape\n",
    "    assert c < h and c < w, f\"expect channel first images, but instead {chw_float32_torch.shape}\"\n",
    "    hwc_uint8_numpy = (chw_float32_torch * 255).type(torch.uint8).permute(1, 2, 0).numpy()\n",
    "    return hwc_uint8_numpy\n",
    "\n",
    "# 1. Initialize your LeRobotDataset\n",
    "#    Replace with your actual dataset path or Hugging Face Hub repo ID\n",
    "repo_id = \"jchun/so100_cleaning_20250524_150422\" # Example from your notebook\n",
    "# dataset = LeRobotDataset(repo_id)\n",
    "# If your dataset is local, provide the root path:\n",
    "# dataset = LeRobotDataset(repo_id, root=\"path/to/your/dataset_directory\")\n",
    "# For this example, I will assume you have a 'dataset' object already loaded.\n",
    "# If not, uncomment and adjust the lines above.\n",
    "\n",
    "# 2. Choose an episode to load\n",
    "episode_index = 0  # Or any other episode index you want to visualize\n",
    "\n",
    "# 3. Create an EpisodeSampler\n",
    "# This sampler ensures you only get data from the chosen episode\n",
    "class EpisodeSampler(torch.utils.data.Sampler):\n",
    "    def __init__(self, dataset: LeRobotDataset, episode_index: int):\n",
    "        from_idx = dataset.episode_data_index[\"from\"][episode_index].item()\n",
    "        to_idx = dataset.episode_data_index[\"to\"][episode_index].item()\n",
    "        self.frame_ids = range(from_idx, to_idx)\n",
    "\n",
    "    def __iter__(self) -> Iterator:\n",
    "        return iter(self.frame_ids)\n",
    "\n",
    "    def __len__(self) -> int:\n",
    "        return len(self.frame_ids)\n",
    "\n",
    "# episode_sampler = EpisodeSampler(dataset, episode_index) # Assuming 'dataset' is loaded\n",
    "\n",
    "# 4. Create a DataLoader\n",
    "# dataloader = torch.utils.data.DataLoader(\n",
    "#     dataset,\n",
    "#     sampler=episode_sampler,\n",
    "#     batch_size=1,  # Load one image at a time for a simple list\n",
    "#     num_workers=0  # Set to 0 for simplicity in a notebook, or >0 for faster loading\n",
    "# )\n",
    "\n",
    "# 5. Load images into a list\n",
    "loaded_images = []\n",
    "\n",
    "# print(f\"Loading images from episode {episode_index} of dataset {repo_id}...\")\n",
    "# for batch in dataloader:\n",
    "#     # The image data is typically under keys specified in dataset.meta.camera_keys\n",
    "#     for key in dataset.meta.camera_keys:\n",
    "#         if key in batch:\n",
    "#             # batch[key] will be a batch of images, e.g., (1, C, H, W) if batch_size is 1\n",
    "#             # We take the first (and only) image from the batch\n",
    "#             image_tensor = batch[key][0]\n",
    "#             # Convert to HWC uint8 NumPy array (like in visualize_dataset.py)\n",
    "#             # This is useful for visualization with libraries like Matplotlib\n",
    "#             image_numpy = to_hwc_uint8_numpy(image_tensor)\n",
    "#             loaded_images.append(image_numpy)\n",
    "#             # If you want to keep them as tensors:\n",
    "#             # loaded_images.append(image_tensor)\n",
    "\n",
    "# print(f\"Loaded {len(loaded_images)} images.\")\n",
    "\n",
    "# Now `loaded_images` contains a list of image arrays (or tensors)\n",
    "# You can then display them, e.g., using matplotlib:\n",
    "# import matplotlib.pyplot as plt\n",
    "# if loaded_images:\n",
    "#     plt.imshow(loaded_images[0])\n",
    "#     plt.title(f\"First image from episode {episode_index}\")\n",
    "#     plt.show()\n",
    "# else:\n",
    "#     print(\"No images were loaded.\")\n"
   ]
  },
  {
   "cell_type": "code",
   "execution_count": null,
   "metadata": {},
   "outputs": [],
   "source": [
    "\n",
    "\n",
    "\n",
    "\n",
    "\n",
    "\n",
    "\n",
    "\n",
    "\n",
    "\n"
   ]
  }
 ],
 "metadata": {
  "kernelspec": {
   "display_name": "matcha",
   "language": "python",
   "name": "python3"
  },
  "language_info": {
   "codemirror_mode": {
    "name": "ipython",
    "version": 3
   },
   "file_extension": ".py",
   "mimetype": "text/x-python",
   "name": "python",
   "nbconvert_exporter": "python",
   "pygments_lexer": "ipython3",
   "version": "3.10.16"
  }
 },
 "nbformat": 4,
 "nbformat_minor": 2
}
